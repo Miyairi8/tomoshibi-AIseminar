{
  "nbformat": 4,
  "nbformat_minor": 0,
  "metadata": {
    "colab": {
      "provenance": [],
      "authorship_tag": "ABX9TyOPl1jDdqqtqswikVnPLGl0",
      "include_colab_link": true
    },
    "kernelspec": {
      "name": "python3",
      "display_name": "Python 3"
    },
    "language_info": {
      "name": "python"
    }
  },
  "cells": [
    {
      "cell_type": "markdown",
      "metadata": {
        "id": "view-in-github",
        "colab_type": "text"
      },
      "source": [
        "<a href=\"https://colab.research.google.com/github/Miyairi8/tomoshibi-AIseminar/blob/main/sum_numeric.ipynb\" target=\"_parent\"><img src=\"https://colab.research.google.com/assets/colab-badge.svg\" alt=\"Open In Colab\"/></a>"
      ]
    },
    {
      "cell_type": "code",
      "execution_count": 10,
      "metadata": {
        "colab": {
          "base_uri": "https://localhost:8080/"
        },
        "id": "G86fTjuGQCWy",
        "outputId": "e9cbde0e-a11a-4cd0-cb07-5c6c1e35ea5f"
      },
      "outputs": [
        {
          "output_type": "stream",
          "name": "stdout",
          "text": [
            "リスト1の合計: 15\n",
            "無効な値が含まれています:hello\n",
            "無効な値が含まれています:world\n",
            "リスト2の合計: 9\n"
          ]
        }
      ],
      "source": [
        "def sum_numeric_list(data):\n",
        "    total = 0\n",
        "    # ここに処理を記述\n",
        "\n",
        "    for i in data:\n",
        "      try:\n",
        "        total = total + i\n",
        "      except TypeError:\n",
        "        print(f\"無効な値が含まれています:{i}\")\n",
        "    return total\n",
        "\n",
        "test_list1 = [1, 2, 3, 4, 5]\n",
        "test_list2 = [1, \"hello\", 3, \"world\", 5]\n",
        "print(f\"リスト1の合計: {sum_numeric_list(test_list1)}\")\n",
        "print(f\"リスト2の合計: {sum_numeric_list(test_list2)}\")"
      ]
    }
  ]
}