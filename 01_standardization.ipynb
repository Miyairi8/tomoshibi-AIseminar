{
  "nbformat": 4,
  "nbformat_minor": 0,
  "metadata": {
    "colab": {
      "provenance": [],
      "authorship_tag": "ABX9TyM5EfRtZf3YK0t6Poxn+Zgp",
      "include_colab_link": true
    },
    "kernelspec": {
      "name": "python3",
      "display_name": "Python 3"
    },
    "language_info": {
      "name": "python"
    }
  },
  "cells": [
    {
      "cell_type": "markdown",
      "metadata": {
        "id": "view-in-github",
        "colab_type": "text"
      },
      "source": [
        "<a href=\"https://colab.research.google.com/github/Miyairi8/tomoshibi-AIseminar/blob/main/01_standardization.ipynb\" target=\"_parent\"><img src=\"https://colab.research.google.com/assets/colab-badge.svg\" alt=\"Open In Colab\"/></a>"
      ]
    },
    {
      "cell_type": "code",
      "execution_count": 3,
      "metadata": {
        "colab": {
          "base_uri": "https://localhost:8080/"
        },
        "id": "Ll0-Z30bonKy",
        "outputId": "2152137f-135c-4be6-ed44-21a2676f2d6b"
      },
      "outputs": [
        {
          "output_type": "stream",
          "name": "stdout",
          "text": [
            "元の2次元データ:\n",
            " [[ 1 10]\n",
            " [ 2 20]\n",
            " [ 3 30]]\n",
            "標準化された2次元データ（列ごと）:\n",
            " [[-1.22474487 -1.22474487]\n",
            " [ 0.          0.        ]\n",
            " [ 1.22474487  1.22474487]]\n"
          ]
        }
      ],
      "source": [
        "import numpy as np\n",
        "\n",
        "data_2d = np.array([[1, 10],\n",
        "                    [2, 20],\n",
        "                    [3, 30]])\n",
        "\n",
        "### ここに各列ごとに標準化する処理を記述してください ###\n",
        "standardized_data_2d = (data_2d - np.array([np.mean(data_2d[:, 0]), np.mean(data_2d[:, 1])])) / np.array([np.std(data_2d[:, 0]), np.std(data_2d[:, 1])])\n",
        "\n",
        "print(\"元の2次元データ:\\n\", data_2d)\n",
        "print(\"標準化された2次元データ（列ごと）:\\n\", standardized_data_2d)"
      ]
    }
  ]
}